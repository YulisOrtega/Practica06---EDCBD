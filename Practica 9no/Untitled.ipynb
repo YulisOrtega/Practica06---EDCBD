{
 "cells": [
  {
   "cell_type": "code",
   "execution_count": 4,
   "id": "64877293-a830-45b2-8056-9a79251c01fb",
   "metadata": {},
   "outputs": [
    {
     "name": "stdout",
     "output_type": "stream",
     "text": [
      "\n",
      "CPU times: total: 156 ms\n",
      "Wall time: 762 ms\n"
     ]
    }
   ],
   "source": [
    "%%time\n",
    "\n",
    "# Installing select libraries:-\n",
    "from gc import collect; # garbage collection to free up memory\n",
    "from warnings import filterwarnings; # handle warning messages\n",
    "\n",
    "import re # regular expressions\n",
    "\n",
    "import numpy as np # linear algebra\n",
    "import pandas as pd # data processing, CSV file I/O (e.g. pd.read_csv)\n",
    "from scipy import stats # statistical functions\n",
    "\n",
    "# Igenerating combinations & cycle\n",
    "from itertools import cycle, combinations  \n",
    "\n",
    "# data visualization\n",
    "import matplotlib.pyplot as plt\n",
    "\n",
    "# For custom formatting of ticks\n",
    "from matplotlib.ticker import FuncFormatter \n",
    "\n",
    "# For formatting ticks with a string\n",
    "from matplotlib.ticker import FormatStrFormatter \n",
    "\n",
    "# Importing 3D axes module\n",
    "from mpl_toolkits.mplot3d import Axes3D  \n",
    "\n",
    "# Importing colormap for scatter plot\n",
    "from matplotlib.colors import ListedColormap  \n",
    "\n",
    "# statistical data visualization\n",
    "import seaborn as sns \n",
    "\n",
    "# Importing WordCloud library for textual data visualization\n",
    "from wordcloud import WordCloud  \n",
    "\n",
    "from io import StringIO\n",
    "\n",
    "# Ignore warning messages\n",
    "filterwarnings('ignore'); \n",
    "\n",
    "# displaying HTML content\n",
    "from IPython.display import display, HTML, display_html, clear_output; \n",
    "\n",
    "\n",
    "clear_output();\n",
    "print();\n",
    "collect();"
   ]
  },
  {
   "cell_type": "code",
   "execution_count": 6,
   "id": "54bb2600-f60f-4492-9a21-c32836076335",
   "metadata": {},
   "outputs": [
    {
     "ename": "NameError",
     "evalue": "name 'color' is not defined",
     "output_type": "error",
     "traceback": [
      "\u001b[1;31m---------------------------------------------------------------------------\u001b[0m",
      "\u001b[1;31mNameError\u001b[0m                                 Traceback (most recent call last)",
      "Cell \u001b[1;32mIn[6], line 4\u001b[0m\n\u001b[0;32m      2\u001b[0m plt\u001b[38;5;241m.\u001b[39mstyle\u001b[38;5;241m.\u001b[39muse(\u001b[38;5;124m\"\u001b[39m\u001b[38;5;124mfivethirtyeight\u001b[39m\u001b[38;5;124m\"\u001b[39m)\n\u001b[0;32m      3\u001b[0m sns\u001b[38;5;241m.\u001b[39mset(rc\u001b[38;5;241m=\u001b[39m{\u001b[38;5;124m\"\u001b[39m\u001b[38;5;124mfigure.figsize\u001b[39m\u001b[38;5;124m\"\u001b[39m:(\u001b[38;5;241m10\u001b[39m, \u001b[38;5;241m10\u001b[39m)})\n\u001b[1;32m----> 4\u001b[0m \u001b[38;5;28mprint\u001b[39m(\u001b[38;5;124mf\u001b[39m\u001b[38;5;124m\"\u001b[39m\u001b[38;5;132;01m{\u001b[39;00mcolor\u001b[38;5;241m.\u001b[39mGREEN\u001b[38;5;132;01m}\u001b[39;00m\u001b[38;5;124mSuccesfully Configured libraries!\u001b[39m\u001b[38;5;132;01m{\u001b[39;00mcolor\u001b[38;5;241m.\u001b[39mEND\u001b[38;5;132;01m}\u001b[39;00m\u001b[38;5;124m\"\u001b[39m)\n",
      "\u001b[1;31mNameError\u001b[0m: name 'color' is not defined"
     ]
    }
   ],
   "source": [
    "# Set the plot style to 'fivethirtyeight'\n",
    "plt.style.use(\"fivethirtyeight\")\n",
    "sns.set(rc={\"figure.figsize\":(10, 10)})\n",
    "print(f\"{color.GREEN}Succesfully Configured libraries!{color.END}\")"
   ]
  }
 ],
 "metadata": {
  "kernelspec": {
   "display_name": "Python 3 (ipykernel)",
   "language": "python",
   "name": "python3"
  },
  "language_info": {
   "codemirror_mode": {
    "name": "ipython",
    "version": 3
   },
   "file_extension": ".py",
   "mimetype": "text/x-python",
   "name": "python",
   "nbconvert_exporter": "python",
   "pygments_lexer": "ipython3",
   "version": "3.11.5"
  }
 },
 "nbformat": 4,
 "nbformat_minor": 5
}
